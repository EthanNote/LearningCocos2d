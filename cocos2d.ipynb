{
 "cells": [
  {
   "cell_type": "markdown",
   "metadata": {},
   "source": [
    "# Learning Cocos2d"
   ]
  },
  {
   "cell_type": "markdown",
   "metadata": {},
   "source": [
    "## Official startup tutorial\n",
    "http://python.cocos2d.org/doc/programming_guide/quickstart.html"
   ]
  },
  {
   "cell_type": "markdown",
   "metadata": {},
   "source": [
    "## Hello world"
   ]
  },
  {
   "cell_type": "code",
   "execution_count": null,
   "metadata": {},
   "outputs": [],
   "source": [
    "import cocos\n",
    "\n",
    "class HelloWorld(cocos.layer.Layer):\n",
    "    def __init__(self):\n",
    "        super(HelloWorld, self).__init__()\n",
    "        label = cocos.text.Label(\n",
    "            'Hello, world', font_name = 'Time New Roman',\n",
    "            font_size=32,\n",
    "            anchor_x = 'center', anchor_y='center'\n",
    "        )\n",
    "        label.position=320,240\n",
    "        self.add(label)\n",
    "\n",
    "cocos.director.director.init()\n",
    "cocos.director.director.run(cocos.scene.Scene(HelloWorld()))"
   ]
  },
  {
   "cell_type": "markdown",
   "metadata": {},
   "source": [
    "## Action"
   ]
  },
  {
   "cell_type": "code",
   "execution_count": null,
   "metadata": {},
   "outputs": [],
   "source": [
    "import cocos\n",
    "from cocos.actions import *\n",
    "\n",
    "class HelloWorld(cocos.layer.Layer):\n",
    "    def __init__(self):\n",
    "        super(HelloWorld, self).__init__()\n",
    "        label = cocos.text.Label(\n",
    "            'Hello, world', font_name = 'Time New Roman',\n",
    "            font_size=32,\n",
    "            anchor_x = 'center', anchor_y='center'\n",
    "        )\n",
    "        label.position=320,240\n",
    "        self.add(label)\n",
    "\n",
    "        sprite = cocos.sprite.Sprite('1.png')\n",
    "        sprite.position = 320,240\n",
    "        sprite.scale = 1\n",
    "        self.add( sprite, z=1 )\n",
    "\n",
    "        scale = ScaleBy(3, duration=2)\n",
    "        label.do(Repeat(scale + Reverse(scale)))\n",
    "        sprite.do(Repeat(Reverse(scale) + scale))\n",
    "\n",
    "cocos.director.director.init()\n",
    "hello_layer = HelloWorld ()\n",
    "hello_layer.do( RotateBy(360, duration=10) )\n",
    "\n",
    "# A scene that contains the layer hello_layer\n",
    "main_scene = cocos.scene.Scene (hello_layer)\n",
    "\n",
    "# And now, start the application, starting with main_scene\n",
    "cocos.director.director.run (main_scene)"
   ]
  },
  {
   "cell_type": "markdown",
   "metadata": {},
   "source": [
    "## Event"
   ]
  },
  {
   "cell_type": "code",
   "execution_count": null,
   "metadata": {},
   "outputs": [],
   "source": []
  }
 ],
 "metadata": {
  "kernelspec": {
   "display_name": "Python 3",
   "language": "python",
   "name": "python3"
  },
  "language_info": {
   "codemirror_mode": {
    "name": "ipython",
    "version": 3
   },
   "file_extension": ".py",
   "mimetype": "text/x-python",
   "name": "python",
   "nbconvert_exporter": "python",
   "pygments_lexer": "ipython3",
   "version": "3.6.4"
  }
 },
 "nbformat": 4,
 "nbformat_minor": 2
}
